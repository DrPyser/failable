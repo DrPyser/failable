{
 "cells": [
  {
   "cell_type": "code",
   "execution_count": 6,
   "metadata": {
    "collapsed": false,
    "scrolled": true
   },
   "outputs": [],
   "source": [
    "from abc import (ABCMeta, abstractmethod, ABC)\n",
    "import itertools as it\n",
    "import functools as ft\n",
    "\n",
    "def identity(x):\n",
    "    return x\n",
    "\n",
    "class Functoid:\n",
    "    def __init__(self, function):\n",
    "        self._func = function\n",
    "\n",
    "    def __call__(self, *args, **kwargs):\n",
    "        return self._func(*args, **kwargs)\n",
    "\n",
    "    def curry(self, *args, **kwargs):\n",
    "        return Functoid(ft.partial(self, *args, **kwargs))\n",
    "    \n",
    "    def before(self, f):\n",
    "        return Functoid(lambda *args, **kwargs: f(self._func(*args, **kwargs)))\n",
    "\n",
    "    def after(self, f):\n",
    "        return Functoid(lambda *args, **kwargs: self._func(f(*args, **kwargs)))\n",
    "    \n",
    "    def uncurry(self):\n",
    "        return Functoid(lambda args: self._func(*args))\n",
    "\n",
    "\n",
    "class FunctoidalClass(type):\n",
    "    def __new__(cls, name, bases, attrs):\n",
    "        attrs2 = {k:(Functoid(f) if isfunction(f) else f) for (k,f) in attrs.items()}\n",
    "        return super(FunctoidalClass, cls).__new__(cls,name,bases,attrs2)\n",
    "    \n",
    "\n",
    "\n",
    "class Functor(ABC):\n",
    "    @Functoid\n",
    "    @abstractmethod\n",
    "    def fmap(self, f):\n",
    "        raise NotImplementedError()\n",
    "\n",
    "\n",
    "class Applicative(Functor):\n",
    "    @classmethod\n",
    "    @abstractmethod\n",
    "    def pure(cls, x):\n",
    "        return cls(x)\n",
    "    \n",
    "    @abstractmethod\n",
    "    def ap(self, fa):\n",
    "        raise NotImplementedError()\n",
    "\n",
    "    @abstractmethod\n",
    "    def fmap(self, f):\n",
    "        return self.pure(f).ap(self)\n",
    "\n",
    "    \n",
    "class Monad(Applicative):\n",
    "    @abstractmethod\n",
    "    def bind(self, f):\n",
    "        raise NotImplementedError()\n",
    "\n",
    "    def fmap(self, f):\n",
    "        return self.bind(Functoid(f).before(self.pure))\n",
    "    \n",
    "    \n",
    "class Monoid:\n",
    "    def __init__(self, op, identity):\n",
    "        self.op = op\n",
    "        self.identity = identity\n",
    "    \n",
    "    def __call__(self, x, y):\n",
    "        return self.op(x, y)\n",
    "\n",
    "    def fold(self, iterable):\n",
    "        return reduce(self.op, iterable, self.identity)\n",
    "\n",
    "    \n",
    "class ArrayList(list, Monad):\n",
    "    def __init__(self, iterable):\n",
    "        super().__init__(iterable)\n",
    "\n",
    "    def fmap(self, f):\n",
    "        return ArrayList(map(f, self))\n",
    "\n",
    "    @classmethod\n",
    "    def pure(cls, x):\n",
    "        return ArrayList((x,))\n",
    "\n",
    "    def bind(self, f):\n",
    "        return ArrayList(ft.reduce(lambda y, x: it.chain(y, f(x)), self, []))\n",
    "\n"
   ]
  },
  {
   "cell_type": "code",
   "execution_count": 70,
   "metadata": {
    "collapsed": false
   },
   "outputs": [],
   "source": [
    "import operator as op\n",
    "\n",
    "class Cons(tuple):\n",
    "    __slots__ = []\n",
    "    def __new__(cls, car, cdr):\n",
    "        return super().__new__(cls, (car, cdr))\n",
    "\n",
    "    @property\n",
    "    def car(self):\n",
    "        return tuple.__getitem__(self, 0)\n",
    "\n",
    "    @property\n",
    "    def cdr(self):\n",
    "        return tuple.__getitem__(self, 1)\n",
    "\n",
    "    def __repr__(self):\n",
    "        return \"Cons({},{})\".format(self.car,self.cdr)\n",
    "    \n",
    "    \n",
    "\n",
    "    \n",
    "    \n",
    "class List(Cons, Monad):    \n",
    "    class Empty:\n",
    "        __slots__ = []\n",
    "        class __Empty:\n",
    "            __slots__ = []\n",
    "            def __new__(cls):\n",
    "                return super().__new__(cls)\n",
    "\n",
    "            def __repr__(self):\n",
    "                return \"Empty\"\n",
    "\n",
    "            def __str__(self):\n",
    "                return \"Empty\"\n",
    "            \n",
    "            def __iter__(self):\n",
    "                while False:\n",
    "                    yield None\n",
    "                    \n",
    "            def __len__(self):\n",
    "                return 0\n",
    "            \n",
    "            @property\n",
    "            def tail(self):\n",
    "                raise AttributeError(\"Empty list has no tail\")\n",
    "            \n",
    "            @property\n",
    "            def head(self):\n",
    "                raise AttributeError(\"Empty list has no head\")\n",
    "                \n",
    "            def is_empty(self):\n",
    "                return True\n",
    "            \n",
    "            def prepend(self, x):\n",
    "                return List(x)\n",
    "            \n",
    "            def __add__(self, other):\n",
    "                return other\n",
    "                \n",
    "                \n",
    "        _instance = __Empty()\n",
    "\n",
    "        def __new__(cls):\n",
    "            return cls._instance\n",
    "    \n",
    "    def __new__(cls, *elements):\n",
    "        return ft.reduce(lambda y,x: super(List, cls).__new__(cls, x, y), reversed(elements), List.Empty())\n",
    "        \n",
    "    @classmethod\n",
    "    def from_iterable(cls, iterable):\n",
    "        if isinstance(iterable, cls):\n",
    "            return iterable\n",
    "        else:\n",
    "            return cls(*iterable)\n",
    "\n",
    "    \n",
    "    @property\n",
    "    def head(self):\n",
    "        return self.car\n",
    "        \n",
    "    @property\n",
    "    def tail(self):\n",
    "        return self.cdr\n",
    "    \n",
    "    def __iter__(self):\n",
    "        yield self.head\n",
    "        for x in self.tail:\n",
    "            yield x\n",
    "    \n",
    "    def is_empty(self):\n",
    "        return False\n",
    "\n",
    "    def __len__(self):\n",
    "        return sum(1 for x in self)\n",
    "    \n",
    "    def __getitem__(self, index):\n",
    "        for (i, x) in enumerate(self):\n",
    "            if i == index:\n",
    "                return x\n",
    "        else:\n",
    "            raise Exception(\"List index out of bounds\")\n",
    "    \n",
    "    def __repr__(self):\n",
    "        return \"List({})\".format(\", \".join(map(str, iter(self))))\n",
    "        \n",
    "    \n",
    "    @classmethod\n",
    "    def cons(cls, a, b):\n",
    "        return b.prepend(a)\n",
    "        \n",
    "    def prepend(self, x):\n",
    "        return super(List, self).__new__(type(self), x, self)\n",
    "    \n",
    "    def __add__(self, other):\n",
    "        return ft.reduce(type(self).prepend, reversed(self), other)\n",
    "    \n",
    "    def pure(cls, x):\n",
    "        return List.Empty().prepend(x)\n",
    "    \n",
    "    def bind(self, f):\n",
    "        return ft.reduce(lambda y,x: y+f(x), self, List.Empty())\n",
    "    \n",
    "    def fmap(self, f):\n",
    "        return List.from_iterable(map(f,self))\n",
    "    \n",
    "    def ap(self, other):\n",
    "        return List.from_iterable(f(x) for f in self for x in other)\n",
    "    "
   ]
  },
  {
   "cell_type": "code",
   "execution_count": 71,
   "metadata": {
    "collapsed": false
   },
   "outputs": [
    {
     "name": "stdout",
     "output_type": "stream",
     "text": [
      "1\n",
      "2\n",
      "3\n"
     ]
    },
    {
     "data": {
      "text/plain": [
       "Empty"
      ]
     },
     "execution_count": 71,
     "metadata": {},
     "output_type": "execute_result"
    }
   ],
   "source": [
    "a = List(1,2,3)\n",
    "print(a.head)\n",
    "print(a.tail.head)\n",
    "print(a.tail.tail.head)\n",
    "a.tail.tail.tail"
   ]
  },
  {
   "cell_type": "code",
   "execution_count": 72,
   "metadata": {
    "collapsed": false
   },
   "outputs": [
    {
     "name": "stdout",
     "output_type": "stream",
     "text": [
      "List(3, 2, 1)\n",
      "[1, 2, 3]\n"
     ]
    }
   ],
   "source": [
    "b = List.Empty().prepend(1).prepend(2).prepend(3)\n",
    "print(b)\n",
    "print(list(reversed(b)))\n"
   ]
  },
  {
   "cell_type": "code",
   "execution_count": 73,
   "metadata": {
    "collapsed": false
   },
   "outputs": [
    {
     "name": "stdout",
     "output_type": "stream",
     "text": [
      "1\n",
      "2\n",
      "3\n"
     ]
    }
   ],
   "source": [
    "for x in List(1,2,3):\n",
    "    print(x)"
   ]
  },
  {
   "cell_type": "code",
   "execution_count": 74,
   "metadata": {
    "collapsed": false
   },
   "outputs": [
    {
     "name": "stdout",
     "output_type": "stream",
     "text": [
      "List(2, 4, 6, 8)\n",
      "List(11, 21, 31, 41, 51, 12, 22, 32, 42, 52, 13, 23, 33, 43, 53, 14, 24, 34, 44, 54, 15, 25, 35, 45, 55)\n"
     ]
    }
   ],
   "source": [
    "c = List(1,2,3,4).fmap(lambda x: x*2)\n",
    "print(c)\n",
    "d = List(1,2,3,4,5).fmap(Functoid(op.add).curry).ap(List(10,20,30,40,50))\n",
    "print(d)"
   ]
  },
  {
   "cell_type": "code",
   "execution_count": 49,
   "metadata": {
    "collapsed": true
   },
   "outputs": [],
   "source": [
    "f = Functoid(op.add)"
   ]
  },
  {
   "cell_type": "code",
   "execution_count": 55,
   "metadata": {
    "collapsed": false
   },
   "outputs": [
    {
     "data": {
      "text/plain": [
       "3"
      ]
     },
     "execution_count": 55,
     "metadata": {},
     "output_type": "execute_result"
    }
   ],
   "source": []
  },
  {
   "cell_type": "code",
   "execution_count": null,
   "metadata": {
    "collapsed": true
   },
   "outputs": [],
   "source": []
  }
 ],
 "metadata": {
  "kernelspec": {
   "display_name": "env",
   "language": "python",
   "name": "env"
  },
  "language_info": {
   "codemirror_mode": {
    "name": "ipython",
    "version": 3
   },
   "file_extension": ".py",
   "mimetype": "text/x-python",
   "name": "python",
   "nbconvert_exporter": "python",
   "pygments_lexer": "ipython3",
   "version": "3.6.2"
  }
 },
 "nbformat": 4,
 "nbformat_minor": 2
}
