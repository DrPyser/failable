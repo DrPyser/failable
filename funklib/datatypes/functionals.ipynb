{
 "cells": [
  {
   "cell_type": "code",
   "execution_count": 17,
   "metadata": {
    "scrolled": true
   },
   "outputs": [],
   "source": [
    "from funklib.datatypes.trampoline import *\n",
    "from sys import getsizeof"
   ]
  },
  {
   "cell_type": "code",
   "execution_count": 24,
   "metadata": {},
   "outputs": [
    {
     "name": "stdout",
     "output_type": "stream",
     "text": [
      "72\n"
     ]
    }
   ],
   "source": [
    "@Trampolined\n",
    "def fib(n, acc=1):\n",
    "    if n <= 1:\n",
    "        return Return(acc)\n",
    "    else:\n",
    "        return bounce(fib, n-1, n*acc)\n",
    "print(getsizeof(fib.jump(10)))"
   ]
  },
  {
   "cell_type": "code",
   "execution_count": 22,
   "metadata": {},
   "outputs": [
    {
     "data": {
      "text/plain": [
       "88"
      ]
     },
     "execution_count": 22,
     "metadata": {},
     "output_type": "execute_result"
    }
   ],
   "source": [
    "def fib2(n, acc=1):\n",
    "    if n <=1:\n",
    "        return acc\n",
    "    else:\n",
    "        yield fib2(n-1, n*acc)\n",
    "        \n",
    "fib2tramp = trampoline(fib2)\n",
    "getsizeof(fib2(10))"
   ]
  },
  {
   "cell_type": "code",
   "execution_count": 26,
   "metadata": {},
   "outputs": [],
   "source": [
    "# %timeit fib.jump(10)\n",
    "# %timeit next(fib2(10))\n",
    "# %timeit fib(10)\n",
    "# %timeit fib2tramp(10)\n",
    "tramp = fib.jump(10)\n",
    "steps = []\n",
    "while not isinstance(tramp, Return):\n",
    "    steps.append(tramp)\n",
    "    tramp = tramp.resume()\n",
    "steps.append(tramp)"
   ]
  },
  {
   "cell_type": "code",
   "execution_count": 28,
   "metadata": {},
   "outputs": [
    {
     "data": {
      "text/plain": [
       "704"
      ]
     },
     "execution_count": 28,
     "metadata": {},
     "output_type": "execute_result"
    }
   ],
   "source": [
    "sum(map(getsizeof, steps))"
   ]
  },
  {
   "cell_type": "code",
   "execution_count": 32,
   "metadata": {},
   "outputs": [],
   "source": [
    "tramp = fib2(10)\n",
    "steps = []\n",
    "try:\n",
    "    while True:\n",
    "        tramp = next(tramp)\n",
    "        steps.append(tramp)\n",
    "except StopIteration as ex:\n",
    "    steps.append(ex.value)"
   ]
  },
  {
   "cell_type": "code",
   "execution_count": 35,
   "metadata": {},
   "outputs": [
    {
     "data": {
      "text/plain": [
       "72"
      ]
     },
     "execution_count": 35,
     "metadata": {},
     "output_type": "execute_result"
    }
   ],
   "source": [
    "getsizeof(fib.jump(10))"
   ]
  },
  {
   "cell_type": "code",
   "execution_count": 148,
   "metadata": {},
   "outputs": [],
   "source": [
    "def feeder(food, consumer):\n",
    "    next(consumer)\n",
    "    for x in food:\n",
    "        print(consumer.send(x))\n",
    "        \n",
    "def yielder():\n",
    "    while True:\n",
    "        yield (yield)"
   ]
  },
  {
   "cell_type": "code",
   "execution_count": 149,
   "metadata": {},
   "outputs": [],
   "source": [
    "def follow(file, target, interval=0.1):\n",
    "    file.seek(0,2)\n",
    "    while True:\n",
    "        line = file.readline()\n",
    "        if not line:\n",
    "            sleep(interval)\n",
    "        else:\n",
    "            target.send(line)\n",
    "        "
   ]
  },
  {
   "cell_type": "code",
   "execution_count": 52,
   "metadata": {},
   "outputs": [],
   "source": [
    "file = open(\"\")"
   ]
  },
  {
   "cell_type": "code",
   "execution_count": null,
   "metadata": {},
   "outputs": [],
   "source": []
  }
 ],
 "metadata": {
  "kernelspec": {
   "display_name": "Python 3",
   "language": "python",
   "name": "python3"
  },
  "language_info": {
   "codemirror_mode": {
    "name": "ipython",
    "version": 3
   },
   "file_extension": ".py",
   "mimetype": "text/x-python",
   "name": "python",
   "nbconvert_exporter": "python",
   "pygments_lexer": "ipython3",
   "version": "3.6.3"
  }
 },
 "nbformat": 4,
 "nbformat_minor": 2
}
